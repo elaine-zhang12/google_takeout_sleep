{
 "cells": [
  {
   "cell_type": "markdown",
   "metadata": {},
   "source": [
    "# Extracting Apple Sleep Data"
   ]
  },
  {
   "cell_type": "code",
   "execution_count": 1,
   "metadata": {},
   "outputs": [],
   "source": [
    "import xml.etree.ElementTree as ET\n",
    "import pandas as pd\n",
    "from datetime import datetime, timedelta\n",
    "\n",
    "# CHANGE THESE TWO VARIABLES FOR YOUR OWN\n",
    "file_path = 'CB_data/export.xml'\n",
    "csv_file_name = 'cheryl_sleep_data.csv'"
   ]
  },
  {
   "cell_type": "code",
   "execution_count": 2,
   "metadata": {},
   "outputs": [],
   "source": [
    "def extract_sleep_records(file_path):\n",
    "    # Parse the XML file\n",
    "    tree = ET.parse(file_path)\n",
    "    root = tree.getroot()\n",
    "    \n",
    "    # Extract sleep records\n",
    "    sleep_records = []\n",
    "    for record in root.findall(\"Record\"):\n",
    "        if record.get(\"type\") == \"HKCategoryTypeIdentifierSleepAnalysis\":\n",
    "            sleep_records.append({\n",
    "                \"startDate\": record.get(\"startDate\"),\n",
    "                \"endDate\": record.get(\"endDate\"),\n",
    "                \"value\": record.get(\"value\")\n",
    "            })\n",
    "            \n",
    "    df = pd.DataFrame(sleep_records)\n",
    "    return df"
   ]
  },
  {
   "cell_type": "code",
   "execution_count": 3,
   "metadata": {},
   "outputs": [
    {
     "data": {
      "text/html": [
       "<div>\n",
       "<style scoped>\n",
       "    .dataframe tbody tr th:only-of-type {\n",
       "        vertical-align: middle;\n",
       "    }\n",
       "\n",
       "    .dataframe tbody tr th {\n",
       "        vertical-align: top;\n",
       "    }\n",
       "\n",
       "    .dataframe thead th {\n",
       "        text-align: right;\n",
       "    }\n",
       "</style>\n",
       "<table border=\"1\" class=\"dataframe\">\n",
       "  <thead>\n",
       "    <tr style=\"text-align: right;\">\n",
       "      <th></th>\n",
       "      <th>startDate</th>\n",
       "      <th>endDate</th>\n",
       "      <th>value</th>\n",
       "    </tr>\n",
       "  </thead>\n",
       "  <tbody>\n",
       "    <tr>\n",
       "      <th>0</th>\n",
       "      <td>2022-12-18 23:59:55 -0500</td>\n",
       "      <td>2022-12-19 00:01:51 -0500</td>\n",
       "      <td>HKCategoryValueSleepAnalysisInBed</td>\n",
       "    </tr>\n",
       "    <tr>\n",
       "      <th>1</th>\n",
       "      <td>2022-12-19 00:02:09 -0500</td>\n",
       "      <td>2022-12-19 00:02:11 -0500</td>\n",
       "      <td>HKCategoryValueSleepAnalysisInBed</td>\n",
       "    </tr>\n",
       "    <tr>\n",
       "      <th>2</th>\n",
       "      <td>2022-12-19 00:02:50 -0500</td>\n",
       "      <td>2022-12-19 00:07:38 -0500</td>\n",
       "      <td>HKCategoryValueSleepAnalysisInBed</td>\n",
       "    </tr>\n",
       "    <tr>\n",
       "      <th>3</th>\n",
       "      <td>2022-12-19 00:07:53 -0500</td>\n",
       "      <td>2022-12-19 00:08:55 -0500</td>\n",
       "      <td>HKCategoryValueSleepAnalysisInBed</td>\n",
       "    </tr>\n",
       "    <tr>\n",
       "      <th>4</th>\n",
       "      <td>2022-12-19 00:08:57 -0500</td>\n",
       "      <td>2022-12-19 00:08:58 -0500</td>\n",
       "      <td>HKCategoryValueSleepAnalysisInBed</td>\n",
       "    </tr>\n",
       "  </tbody>\n",
       "</table>\n",
       "</div>"
      ],
      "text/plain": [
       "                   startDate                    endDate  \\\n",
       "0  2022-12-18 23:59:55 -0500  2022-12-19 00:01:51 -0500   \n",
       "1  2022-12-19 00:02:09 -0500  2022-12-19 00:02:11 -0500   \n",
       "2  2022-12-19 00:02:50 -0500  2022-12-19 00:07:38 -0500   \n",
       "3  2022-12-19 00:07:53 -0500  2022-12-19 00:08:55 -0500   \n",
       "4  2022-12-19 00:08:57 -0500  2022-12-19 00:08:58 -0500   \n",
       "\n",
       "                               value  \n",
       "0  HKCategoryValueSleepAnalysisInBed  \n",
       "1  HKCategoryValueSleepAnalysisInBed  \n",
       "2  HKCategoryValueSleepAnalysisInBed  \n",
       "3  HKCategoryValueSleepAnalysisInBed  \n",
       "4  HKCategoryValueSleepAnalysisInBed  "
      ]
     },
     "execution_count": 3,
     "metadata": {},
     "output_type": "execute_result"
    }
   ],
   "source": [
    "sleep_df = extract_sleep_records(file_path)\n",
    "sleep_df.head()"
   ]
  },
  {
   "cell_type": "code",
   "execution_count": 4,
   "metadata": {},
   "outputs": [],
   "source": [
    "# process the records\n",
    "\n",
    "def process_sleep_data(df):\n",
    "    # Convert timestamps to datetime\n",
    "    df[\"startDate\"] = pd.to_datetime(df[\"startDate\"])\n",
    "    df[\"endDate\"] = pd.to_datetime(df[\"endDate\"])\n",
    "\n",
    "    df = df[df[\"value\"] != \"HKCategoryValueSleepAnalysisAwake\"].copy()\n",
    "    # Sort records by start time\n",
    "    df = df.sort_values(\"startDate\").reset_index(drop=True)\n",
    "\n",
    "    # Assign a night date:\n",
    "    # - If sleep starts before noon, it's part of the previous night.\n",
    "    # - Otherwise, it's part of the same night's sleep.\n",
    "    df[\"Date\"] = df[\"startDate\"].dt.date\n",
    "    df[\"Date\"] = df[\"Date\"].where(df[\"startDate\"].dt.hour < 12, df[\"Date\"] - timedelta(days=1))\n",
    "\n",
    "    # Calculate sleep duration in hours\n",
    "    df[\"duration_hours\"] = (df[\"endDate\"] - df[\"startDate\"]).dt.total_seconds() / 3600\n",
    "\n",
    "    # Merge sleep sessions that are close together (e.g., falling asleep again at 6 AM)\n",
    "    grouped_sleep = []\n",
    "    prev_night = None\n",
    "    total_sleep = 0\n",
    "\n",
    "    for night, duration in zip(df[\"Date\"], df[\"duration_hours\"]):\n",
    "        if prev_night is None or night == prev_night:\n",
    "            total_sleep += duration\n",
    "        else:\n",
    "            grouped_sleep.append({\"Date\": prev_night, \"total_sleep_hours\": total_sleep})\n",
    "            total_sleep = duration\n",
    "        prev_night = night\n",
    "\n",
    "    # Append the last night's sleep data\n",
    "    if prev_night is not None:\n",
    "        grouped_sleep.append({\"Date\": prev_night, \"total_sleep_hours\": total_sleep})\n",
    "\n",
    "    # Convert to DataFrame\n",
    "    sleep_summary = pd.DataFrame(grouped_sleep)\n",
    "    sleep_summary = sleep_summary.loc[sleep_summary.groupby(\"Date\")[\"total_sleep_hours\"].idxmax()]\n",
    "\n",
    "    return sleep_summary"
   ]
  },
  {
   "cell_type": "code",
   "execution_count": 5,
   "metadata": {},
   "outputs": [],
   "source": [
    "sleep_summary_df = process_sleep_data(sleep_df)\n",
    "sleep_summary_df.head()\n",
    "sleep_summary_df.to_csv(csv_file_name)"
   ]
  }
 ],
 "metadata": {
  "kernelspec": {
   "display_name": "Python 3",
   "language": "python",
   "name": "python3"
  },
  "language_info": {
   "codemirror_mode": {
    "name": "ipython",
    "version": 3
   },
   "file_extension": ".py",
   "mimetype": "text/x-python",
   "name": "python",
   "nbconvert_exporter": "python",
   "pygments_lexer": "ipython3",
   "version": "3.12.9"
  }
 },
 "nbformat": 4,
 "nbformat_minor": 2
}
