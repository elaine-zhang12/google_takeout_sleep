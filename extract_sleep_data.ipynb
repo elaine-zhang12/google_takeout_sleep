{
 "cells": [
  {
   "cell_type": "markdown",
   "metadata": {},
   "source": [
    "# Extracting Apple Sleep Data"
   ]
  },
  {
   "cell_type": "code",
   "execution_count": 1,
   "metadata": {},
   "outputs": [],
   "source": [
    "import xml.etree.ElementTree as ET\n",
    "import pandas as pd\n",
    "from datetime import datetime, timedelta\n",
    "\n",
    "# CHANGE THESE TWO VARIABLES FOR YOUR OWN\n",
    "file_path = 'CB_data/export.xml'\n",
    "csv_file_name = 'cheryl_sleep_data.csv'"
   ]
  },
  {
   "cell_type": "code",
   "execution_count": 2,
   "metadata": {},
   "outputs": [],
   "source": [
    "def extract_sleep_records(file_path):\n",
    "    # Parse the XML file\n",
    "    tree = ET.parse(file_path)\n",
    "    root = tree.getroot()\n",
    "    \n",
    "    # Extract sleep records\n",
    "    sleep_records = []\n",
    "    for record in root.findall(\"Record\"):\n",
    "        if record.get(\"type\") == \"HKCategoryTypeIdentifierSleepAnalysis\":\n",
    "            sleep_records.append({\n",
    "                \"startDate\": record.get(\"startDate\"),\n",
    "                \"endDate\": record.get(\"endDate\"),\n",
    "                \"value\": record.get(\"value\")\n",
    "            })\n",
    "            \n",
    "    df = pd.DataFrame(sleep_records)\n",
    "    return df"
   ]
  },
  {
   "cell_type": "code",
   "execution_count": 3,
   "metadata": {},
   "outputs": [
    {
     "ename": "FileNotFoundError",
     "evalue": "[Errno 2] No such file or directory: 'CB_data/export.xml'",
     "output_type": "error",
     "traceback": [
      "\u001b[1;31m---------------------------------------------------------------------------\u001b[0m",
      "\u001b[1;31mFileNotFoundError\u001b[0m                         Traceback (most recent call last)",
      "Cell \u001b[1;32mIn[3], line 1\u001b[0m\n\u001b[1;32m----> 1\u001b[0m sleep_df \u001b[38;5;241m=\u001b[39m \u001b[43mextract_sleep_records\u001b[49m\u001b[43m(\u001b[49m\u001b[43mfile_path\u001b[49m\u001b[43m)\u001b[49m\n\u001b[0;32m      2\u001b[0m sleep_df\u001b[38;5;241m.\u001b[39mhead()\n",
      "Cell \u001b[1;32mIn[2], line 3\u001b[0m, in \u001b[0;36mextract_sleep_records\u001b[1;34m(file_path)\u001b[0m\n\u001b[0;32m      1\u001b[0m \u001b[38;5;28;01mdef\u001b[39;00m \u001b[38;5;21mextract_sleep_records\u001b[39m(file_path):\n\u001b[0;32m      2\u001b[0m     \u001b[38;5;66;03m# Parse the XML file\u001b[39;00m\n\u001b[1;32m----> 3\u001b[0m     tree \u001b[38;5;241m=\u001b[39m \u001b[43mET\u001b[49m\u001b[38;5;241;43m.\u001b[39;49m\u001b[43mparse\u001b[49m\u001b[43m(\u001b[49m\u001b[43mfile_path\u001b[49m\u001b[43m)\u001b[49m\n\u001b[0;32m      4\u001b[0m     root \u001b[38;5;241m=\u001b[39m tree\u001b[38;5;241m.\u001b[39mgetroot()\n\u001b[0;32m      6\u001b[0m     \u001b[38;5;66;03m# Extract sleep records\u001b[39;00m\n",
      "File \u001b[1;32mC:\\Program Files\\WindowsApps\\PythonSoftwareFoundation.Python.3.12_3.12.2544.0_x64__qbz5n2kfra8p0\\Lib\\xml\\etree\\ElementTree.py:1204\u001b[0m, in \u001b[0;36mparse\u001b[1;34m(source, parser)\u001b[0m\n\u001b[0;32m   1195\u001b[0m \u001b[38;5;250m\u001b[39m\u001b[38;5;124;03m\"\"\"Parse XML document into element tree.\u001b[39;00m\n\u001b[0;32m   1196\u001b[0m \n\u001b[0;32m   1197\u001b[0m \u001b[38;5;124;03m*source* is a filename or file object containing XML data,\u001b[39;00m\n\u001b[1;32m   (...)\u001b[0m\n\u001b[0;32m   1201\u001b[0m \n\u001b[0;32m   1202\u001b[0m \u001b[38;5;124;03m\"\"\"\u001b[39;00m\n\u001b[0;32m   1203\u001b[0m tree \u001b[38;5;241m=\u001b[39m ElementTree()\n\u001b[1;32m-> 1204\u001b[0m \u001b[43mtree\u001b[49m\u001b[38;5;241;43m.\u001b[39;49m\u001b[43mparse\u001b[49m\u001b[43m(\u001b[49m\u001b[43msource\u001b[49m\u001b[43m,\u001b[49m\u001b[43m \u001b[49m\u001b[43mparser\u001b[49m\u001b[43m)\u001b[49m\n\u001b[0;32m   1205\u001b[0m \u001b[38;5;28;01mreturn\u001b[39;00m tree\n",
      "File \u001b[1;32mC:\\Program Files\\WindowsApps\\PythonSoftwareFoundation.Python.3.12_3.12.2544.0_x64__qbz5n2kfra8p0\\Lib\\xml\\etree\\ElementTree.py:558\u001b[0m, in \u001b[0;36mElementTree.parse\u001b[1;34m(self, source, parser)\u001b[0m\n\u001b[0;32m    556\u001b[0m close_source \u001b[38;5;241m=\u001b[39m \u001b[38;5;28;01mFalse\u001b[39;00m\n\u001b[0;32m    557\u001b[0m \u001b[38;5;28;01mif\u001b[39;00m \u001b[38;5;129;01mnot\u001b[39;00m \u001b[38;5;28mhasattr\u001b[39m(source, \u001b[38;5;124m\"\u001b[39m\u001b[38;5;124mread\u001b[39m\u001b[38;5;124m\"\u001b[39m):\n\u001b[1;32m--> 558\u001b[0m     source \u001b[38;5;241m=\u001b[39m \u001b[38;5;28;43mopen\u001b[39;49m\u001b[43m(\u001b[49m\u001b[43msource\u001b[49m\u001b[43m,\u001b[49m\u001b[43m \u001b[49m\u001b[38;5;124;43m\"\u001b[39;49m\u001b[38;5;124;43mrb\u001b[39;49m\u001b[38;5;124;43m\"\u001b[39;49m\u001b[43m)\u001b[49m\n\u001b[0;32m    559\u001b[0m     close_source \u001b[38;5;241m=\u001b[39m \u001b[38;5;28;01mTrue\u001b[39;00m\n\u001b[0;32m    560\u001b[0m \u001b[38;5;28;01mtry\u001b[39;00m:\n",
      "\u001b[1;31mFileNotFoundError\u001b[0m: [Errno 2] No such file or directory: 'CB_data/export.xml'"
     ]
    }
   ],
   "source": [
    "sleep_df = extract_sleep_records(file_path)\n",
    "sleep_df.head()"
   ]
  },
  {
   "cell_type": "code",
   "execution_count": null,
   "metadata": {},
   "outputs": [],
   "source": [
    "def process_sleep_data(df):\n",
    "    # Convert timestamps to datetime\n",
    "    df[\"startDate\"] = pd.to_datetime(df[\"startDate\"])\n",
    "    df[\"endDate\"] = pd.to_datetime(df[\"endDate\"])\n",
    "\n",
    "    # Exclude awake periods\n",
    "    df = df[df[\"value\"] != \"HKCategoryValueSleepAnalysisAwake\"].copy()\n",
    "\n",
    "    df = df.sort_values(\"startDate\").reset_index(drop=True)\n",
    "\n",
    "    # Assign a night date:\n",
    "    # - If sleep starts after 8 PM, assign it to the next day's morning date.\n",
    "    # - Otherwise, if it starts before 8 PM but also before noon (not after noon), assign it to the same morning.\n",
    "    df[\"Date\"] = df[\"startDate\"].dt.date\n",
    "    df[\"Date\"] = df[\"Date\"].where(df[\"startDate\"].dt.hour < 20, df[\"Date\"] + timedelta(days=1))\n",
    "\n",
    "    df[\"duration_hours\"] = (df[\"endDate\"] - df[\"startDate\"]).dt.total_seconds() / 3600\n",
    "\n",
    "    # Merge sleep sessions that belong to the same \"night\"\n",
    "    grouped_sleep = []\n",
    "    prev_night = None\n",
    "    total_sleep = 0\n",
    "    sleep_start = None\n",
    "    sleep_end = None\n",
    "\n",
    "    for night, start, end, duration in zip(df[\"Date\"], df[\"startDate\"], df[\"endDate\"], df[\"duration_hours\"]):\n",
    "        if prev_night is None or night == prev_night:\n",
    "            total_sleep += duration\n",
    "            sleep_start = min(sleep_start, start) if sleep_start else start\n",
    "            sleep_end = max(sleep_end, end) if sleep_end else end\n",
    "        else:\n",
    "            grouped_sleep.append({\n",
    "                \"Date\": prev_night, \n",
    "                \"total_sleep_hours\": total_sleep,\n",
    "                \"sleep_start\": sleep_start, \n",
    "                \"sleep_end\": sleep_end\n",
    "            })\n",
    "            total_sleep = duration\n",
    "            sleep_start = start\n",
    "            sleep_end = end\n",
    "        \n",
    "        prev_night = night\n",
    "\n",
    "    # Append the last night's sleep data\n",
    "    if prev_night is not None:\n",
    "        grouped_sleep.append({\n",
    "            \"Date\": prev_night, \n",
    "            \"total_sleep_hours\": total_sleep,\n",
    "            \"sleep_start\": sleep_start, \n",
    "            \"sleep_end\": sleep_end\n",
    "        })\n",
    "\n",
    "    sleep_summary = pd.DataFrame(grouped_sleep)\n",
    "\n",
    "    return sleep_summary\n"
   ]
  },
  {
   "cell_type": "code",
   "execution_count": 4,
   "metadata": {},
   "outputs": [
    {
     "ename": "NameError",
     "evalue": "name 'process_sleep_data' is not defined",
     "output_type": "error",
     "traceback": [
      "\u001b[1;31m---------------------------------------------------------------------------\u001b[0m",
      "\u001b[1;31mNameError\u001b[0m                                 Traceback (most recent call last)",
      "Cell \u001b[1;32mIn[4], line 1\u001b[0m\n\u001b[1;32m----> 1\u001b[0m sleep_summary_df \u001b[38;5;241m=\u001b[39m \u001b[43mprocess_sleep_data\u001b[49m(sleep_df)\n\u001b[0;32m      2\u001b[0m sleep_summary_df \u001b[38;5;241m=\u001b[39m sleep_summary_df\u001b[38;5;241m.\u001b[39mdrop(columns\u001b[38;5;241m=\u001b[39m[\u001b[38;5;124m\"\u001b[39m\u001b[38;5;124mUnnamed: 0\u001b[39m\u001b[38;5;124m\"\u001b[39m])\n\u001b[0;32m      3\u001b[0m sleep_summary_df\u001b[38;5;241m.\u001b[39mhead()\n",
      "\u001b[1;31mNameError\u001b[0m: name 'process_sleep_data' is not defined"
     ]
    }
   ],
   "source": [
    "sleep_summary_df = process_sleep_data(sleep_df)\n",
    "sleep_summary_df = sleep_summary_df.drop(columns=[\"Unnamed: 0\"])\n",
    "sleep_summary_df.head()"
   ]
  },
  {
   "cell_type": "code",
   "execution_count": null,
   "metadata": {},
   "outputs": [],
   "source": [
    "sleep_summary_df.to_csv(csv_file_name)"
   ]
  }
 ],
 "metadata": {
  "kernelspec": {
   "display_name": "Python 3",
   "language": "python",
   "name": "python3"
  },
  "language_info": {
   "codemirror_mode": {
    "name": "ipython",
    "version": 3
   },
   "file_extension": ".py",
   "mimetype": "text/x-python",
   "name": "python",
   "nbconvert_exporter": "python",
   "pygments_lexer": "ipython3",
   "version": "3.12.9"
  }
 },
 "nbformat": 4,
 "nbformat_minor": 2
}
